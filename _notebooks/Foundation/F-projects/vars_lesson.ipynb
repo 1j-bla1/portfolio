{
 "cells": [
  {
   "cell_type": "code",
   "execution_count": null,
   "id": "7686b654",
   "metadata": {
    "vscode": {
     "languageId": "yaml"
    }
   },
   "outputs": [],
   "source": [
    "---\n",
    "layout: post\n",
    "title: JavaScript Variables Lesson\n",
    "description: This page will teach you the basics of variables.\n",
    "categories: ['HTML', 'JavaScript']\n",
    "permalink: /lessons/variables-lesson\n",
    "---"
   ]
  },
  {
   "cell_type": "markdown",
   "id": "3a92df88",
   "metadata": {},
   "source": [
    "# Variubles Lesson Intro\n",
    "\n",
    "In this lesson, you will be learn the basics of variables. This includes what they are, how to use them in Javascript, and where they can be applied. Let's dive in!\n",
    "\n",
    "## Examples of Variables\n",
    "\n",
    "Here are some examples of variables in our team's wordgame:"
   ]
  },
  {
   "cell_type": "code",
   "execution_count": null,
   "id": "09f27dd6",
   "metadata": {
    "vscode": {
     "languageId": "javascript"
    }
   },
   "outputs": [],
   "source": [
    "var hello = \"Hello, I am a string.\";\n",
    "let hi = 0;\n",
    "const hey = 3.4;"
   ]
  },
  {
   "cell_type": "markdown",
   "id": "af3e5d27",
   "metadata": {},
   "source": [
    "Now let's answer the following questions:\n",
    "\n",
    "+ What do the keywords `var`, `let`, and `const` do?\n",
    "  + How are they different?\n",
    "+ What are `hi`, `hello`, and `hey`?\n",
    "+ What does the `=` symbol do?\n",
    "+ What are the values after the `=`?\n",
    "\n",
    "# Popcorn Hack 1\n",
    "\n",
    "Let's start diving into some of the quesitons. \n",
    "\n",
    "## Instructions\n",
    "\n",
    "1. In your own repository, create an HTML file. Properly adjust the frontmatter to access your site at a link you desire.\n",
    "3. Copy the following code bellow into the file"
   ]
  },
  {
   "cell_type": "code",
   "execution_count": null,
   "id": "fb8884c9",
   "metadata": {
    "vscode": {
     "languageId": "html"
    }
   },
   "outputs": [],
   "source": [
    "<!DOCTYPE html>\n",
    "<html>\n",
    "<head>\n",
    "  <title>My Popcorn Hack #1</title>\n",
    "</head>\n",
    "<body>\n",
    "  <h2>Variable Output</h2>\n",
    "  <div id=\"output\"></div>\n",
    "\n",
    "  <script>\n",
    "    let name = \"Alex\";\n",
    "    const age = 25;\n",
    "    var city = \"New York\";\n",
    "\n",
    "    // Change vars here\n",
    "    name = \"Bessie\";\n",
    "    age = 2;\n",
    "    city = \"Anishiapolis\";\n",
    "\n",
    "    document.getElementById(\"output\").innerText = name + \" is \" + age + \" years old and lives in \" + city + \".\";\n",
    "  </script>\n",
    "</body>\n",
    "</html>\n"
   ]
  },
  {
   "cell_type": "markdown",
   "id": "83ed5faa",
   "metadata": {},
   "source": [
    "4. Adjust var declerations, names, values, etc. \n",
    "5. Record on a sticky note: what changes did you notice?"
   ]
  }
 ],
 "metadata": {
  "language_info": {
   "name": "python"
  }
 },
 "nbformat": 4,
 "nbformat_minor": 5
}
