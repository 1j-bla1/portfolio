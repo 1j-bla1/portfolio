{
 "cells": [
  {
   "cell_type": "code",
   "execution_count": null,
   "id": "c0d93d55",
   "metadata": {
    "vscode": {
     "languageId": "yaml"
    }
   },
   "outputs": [],
   "source": [
    "---\n",
    "layout: post\n",
    "title: JavaScript Functions Homework\n",
    "description: This page will teach you the basics of functions.\n",
    "categories: ['HTML', 'JavaScript']\n",
    "permalink: /lessons/functions-hw\n",
    "author: Vihaan Budhraja and James Blazek\n",
    "---"
   ]
  },
  {
   "cell_type": "markdown",
   "id": "e73f7347",
   "metadata": {},
   "source": [
    "\n",
    "\n",
    "Now that you have completed your function lesson, you will be doing some homework to apply the concepts you learned.\n",
    "\n",
    "\n",
    "**Homework problem 1:**\n",
    "\n",
    "Make a function that converts a farenheit input into celsius\n",
    "\n",
    "Hint: \n"
   ]
  },
  {
   "cell_type": "code",
   "execution_count": null,
   "id": "30cbc187",
   "metadata": {
    "vscode": {
     "languageId": "javascript"
    }
   },
   "outputs": [],
   "source": [
    "// Write a function named toCelsius() that takes fahrenheight as input\n",
    "\n",
    "\n"
   ]
  },
  {
   "cell_type": "markdown",
   "id": "f1788254",
   "metadata": {},
   "source": [
    "**Homework problem:**\n",
    "\n"
   ]
  }
 ],
 "metadata": {
  "language_info": {
   "name": "python"
  }
 },
 "nbformat": 4,
 "nbformat_minor": 5
}
