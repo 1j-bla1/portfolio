{
 "cells": [
  {
   "cell_type": "code",
   "execution_count": null,
   "id": "c0d93d55",
   "metadata": {
    "vscode": {
     "languageId": "yaml"
    }
   },
   "outputs": [],
   "source": [
    "---\n",
    "layout: post\n",
    "title: JavaScript Functions Homework\n",
    "description: This page will teach you the basics of functions.\n",
    "categories: ['HTML', 'JavaScript']\n",
    "permalink: /lessons/functions-hw\n",
    "author: Vihaan Budhraja and James Blazek\n",
    "---"
   ]
  },
  {
   "cell_type": "markdown",
   "id": "e73f7347",
   "metadata": {},
   "source": [
    "\n",
    "\n",
    "**Now that you have completed your function lesson, you will be doing some homework to apply the concepts you learned.**\n",
    "\n",
    "\n",
    "**Homework problem 1:**\n",
    "\n",
    "Make a function that converts a farenheit input into celsius\n",
    "\n",
    "Hint: What is the formula for converting from Farenheit to Celsius? Use the formula in your function to start the conversion.\n",
    "\n",
    "F to C formula: C = (F-32) * 5/9\n"
   ]
  },
  {
   "cell_type": "code",
   "execution_count": null,
   "id": "30cbc187",
   "metadata": {
    "vscode": {
     "languageId": "javascript"
    }
   },
   "outputs": [],
   "source": [
    "// Write a function named toCelsius() that takes fahrenheight as input\n",
    "\n",
    "\n"
   ]
  },
  {
   "cell_type": "markdown",
   "id": "f1788254",
   "metadata": {},
   "source": [
    "**Homework problem 2:**\n",
    "\n",
    "Make a function that describes a person (age, gender, job, height)\n",
    "\n",
    "Hint: Define variables for each description and output them in the function (each description can be a set value, you don't need to have a list of possible outputs)\n",
    "\n"
   ]
  },
  {
   "cell_type": "code",
   "execution_count": null,
   "id": "a1ec6bc1",
   "metadata": {
    "vscode": {
     "languageId": "javascript"
    }
   },
   "outputs": [],
   "source": [
    "// Use a function called PersonDesc()"
   ]
  },
  {
   "cell_type": "markdown",
   "id": "903416db",
   "metadata": {},
   "source": [
    "**Homework problem 3 (CHALLENGE):**\n",
    "\n",
    "Make a function that takes an array and chooses a random string from the array to be outputted. Your array must have atleast 5 different objects, preferably in a specific category.\n",
    "\n",
    "Ex. The array could be fruits and examples would be apple, banana, orange etc.\n"
   ]
  },
  {
   "cell_type": "code",
   "execution_count": null,
   "id": "cc0d65ea",
   "metadata": {
    "vscode": {
     "languageId": "javascript"
    }
   },
   "outputs": [],
   "source": [
    "// Use this for your random generator function\n",
    "\n",
    "\n",
    "\n",
    "/* Delete this comment but make it so that your code outputs a \n",
    "random string each time, it should change each time*/"
   ]
  },
  {
   "cell_type": "markdown",
   "id": "06f7dc20",
   "metadata": {},
   "source": [
    "**Too easy?**\n",
    "\n",
    "**EXTRA  EXTRA CHALLENGE:**\n",
    "\n",
    "Make a function that randomly generates a person's description. Be creative, include things like age, job, favorite color, favorite sport, gender, ethnicity etc.\n",
    "\n",
    "Try to have atleast 10 indicators with a decent amount of options per category. Then randomly generate the whole description of the person. \n",
    "\n",
    "Ex. \n",
    "Name: John\n",
    "\n",
    "Age: 12\n",
    "\n",
    "Job: Unemployed\n",
    "\n",
    "Hair color: Purple\n",
    "\n",
    "Skin color: Neon Yellow\n",
    "\n",
    "Ethnicity: Martian\n",
    "\n",
    "Favorite Sport: Badminton\n",
    "\n",
    "Gender: Male\n",
    "\n",
    "Remember to randomly generate these from a list, so you should have many different possibilites to describe your person."
   ]
  },
  {
   "cell_type": "code",
   "execution_count": null,
   "id": "ed715b4f",
   "metadata": {
    "vscode": {
     "languageId": "javascript"
    }
   },
   "outputs": [],
   "source": [
    "// Good luck!!\n",
    "\n",
    "/* Remember, this challenge is supposed to be slightly tedious and difficult,\n",
    " so take your time and make the code as creative as possible.*/\n",
    "\n",
    " // Your output should come out all at once, like the example above."
   ]
  },
  {
   "cell_type": "markdown",
   "id": "b5814b07",
   "metadata": {},
   "source": [
    "# Submission\n",
    "\n",
    "**IMPORTANT: When uploading, please name your Jupyter notebook in this format: [FirstName][LastName]_funcs_hw.ipynb**\n",
    "Example: AnishGupta_funcs_hw.ipynb\n",
    "\n",
    "Submit the Google Form at <https://forms.gle/jzwrxptc15Ed8nbw6> by downloading this file and uploading it on the form.\n",
    "\n",
    "Requirements for homework:\n",
    "1. Questions 1, 2, and, 3 should be completed. You will get .3 points for each question completed.\n",
    "2. Complete extra practice to gain an extra 0.03 points."
   ]
  }
 ],
 "metadata": {
  "language_info": {
   "name": "python"
  }
 },
 "nbformat": 4,
 "nbformat_minor": 5
}
