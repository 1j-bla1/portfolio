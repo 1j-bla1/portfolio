{
 "cells": [
  {
   "cell_type": "raw",
   "id": "e90135fa",
   "metadata": {
    "vscode": {
     "languageId": "raw"
    }
   },
   "source": [
    "---\n",
    "toc: True\n",
    "layout: post\n",
    "data: tools\n",
    "title: Inventors - Classes and Variables Homework\n",
    "categories: [JavaScript]\n",
    "description: Teaching Variables and Classes\n",
    "permalink: r\n",
    "---"
   ]
  },
  {
   "cell_type": "markdown",
   "id": "12325025",
   "metadata": {},
   "source": [
    "## POPCORN HACK 1 A short program about variables\n"
   ]
  },
  {
   "cell_type": "code",
   "execution_count": 3,
   "id": "cd165c29",
   "metadata": {
    "vscode": {
     "languageId": "javascript"
    }
   },
   "outputs": [
    {
     "data": {
      "application/javascript": "let name = \"Sam\";\nlet age = 10;\n\n// Step 2: Print a message\nconsole.log(\"Hi, my name is\", name);\nconsole.log(\"I am\", age, \"years old.\");\n\n// Step 3: Unfinished part\n// TODO: Make a new variable called \"nextYearAge\"\n// that is the age plus 1\n\nlet nextYearAge = age + 1;   // <-- finish this line!\n\n// TODO: Print out the result\n// Example: \"Next year I will be 11 years old.\"\nconsole.log(\"Next year I will be\", nextYearAge, \"years old.\");   // <-- finish this line!\n\n",
      "text/plain": [
       "<IPython.core.display.Javascript object>"
      ]
     },
     "metadata": {},
     "output_type": "display_data"
    }
   ],
   "source": [
    "%%javascript\n",
    "let name = \"Sam\";\n",
    "let age = 10;\n",
    "\n",
    "// Step 2: Print a message\n",
    "console.log(\"Hi, my name is\", name);\n",
    "console.log(\"I am\", age, \"years old.\");\n",
    "\n",
    "// Step 3: Unfinished part\n",
    "// TODO: Make a new variable called \"nextYearAge\"\n",
    "// that is the age plus 1\n",
    "\n",
    "let nextYearAge = age + 1;   // <-- finish this line!\n",
    "\n",
    "// TODO: Print out the result\n",
    "// Example: \"Next year I will be 11 years old.\"\n",
    "console.log(\"Next year I will be\", nextYearAge, \"years old.\");   // <-- finish this line!\n",
    "\n"
   ]
  },
  {
   "cell_type": "markdown",
   "id": "8b9b8297",
   "metadata": {},
   "source": [
    "## POPCORN HACK 2 A short program about classes\n"
   ]
  },
  {
   "cell_type": "code",
   "execution_count": 4,
   "id": "90501500",
   "metadata": {
    "vscode": {
     "languageId": "javascript"
    }
   },
   "outputs": [
    {
     "data": {
      "application/javascript": "// Step 1: Define the Animal class\nclass Animal {\n  // Initialize each animal with a name, sound, and type\n  constructor(name, sound, kind) {\n    this.name = name;\n    this.sound = sound;\n    this.kind = kind;\n  }\n\n  // Make the animal speak\n  speak() {\n    console.log(`${this.name} the ${this.kind} says ${this.sound}!`);\n  }\n\n  // Bonus method: describe the animal\n  describe() {\n    console.log(`${this.name} is a ${this.kind} and is very friendly!`);\n  }\n}\n\n// Step 2: Create a list to hold all the animals in the zoo\n //James comment This is changes I made:\nlet zoo = [new Animal(\"Leo\", \"Roar\", \"Lion\"), new Animal(\"Kitty\", \"Roar\", \"Tiger\"), new Animal(\"Fluffy\", \"Baa\", \"sheep\")];\n\n// Step 3: Add animals to the zoo\n// TODO: Create at least 3 animals and push them into the zoo array    \n// Example:\nzoo.push(new Animal(\"Buddy\", \"Woof\", \"Dog\"));\nzoo.push(new Animal(\"Mittens\", \"Meow\", \"Cat\"));\nzoo.push(new Animal(\"Polly\", \"Squawk\", \"Parrot\"));\n\n// Step 4: Loop through all animals and make them speak\n// TODO: Use a for loop (or forEach) to call speak() on each animal\nzoo.forEach(animal => {\n  animal.speak();\n  // Step 5: Optional bonus: Call describe() too\n  animal.describe();\n});\n\n// Step 5 Bonus: Let the user add a new animal (works in browser)\n// Uncomment if running in browser with prompt()\n// let name = prompt(\"Enter the animal's name:\");\n// let sound = prompt(\"Enter the sound it makes:\");\n// let kind = prompt(\"Enter the kind of animal:\");\n// let newAnimal = new Animal(name, sound, kind);\n// zoo.push(newAnimal);\n// newAnimal.speak();\n// newAnimal.describe();\n\n",
      "text/plain": [
       "<IPython.core.display.Javascript object>"
      ]
     },
     "metadata": {},
     "output_type": "display_data"
    }
   ],
   "source": [
    "%%javascript\n",
    "// Step 1: Define the Animal class\n",
    "class Animal {\n",
    "  // Initialize each animal with a name, sound, and type\n",
    "  constructor(name, sound, kind) {\n",
    "    this.name = name;\n",
    "    this.sound = sound;\n",
    "    this.kind = kind;\n",
    "  }\n",
    "\n",
    "  // Make the animal speak\n",
    "  speak() {\n",
    "    console.log(`${this.name} the ${this.kind} says ${this.sound}!`);\n",
    "  }\n",
    "\n",
    "  // Bonus method: describe the animal\n",
    "  describe() {\n",
    "    console.log(`${this.name} is a ${this.kind} and is very friendly!`);\n",
    "  }\n",
    "}\n",
    "\n",
    "// Step 2: Create a list to hold all the animals in the zoo\n",
    " //James comment This is changes I made:\n",
    "let zoo = [new Animal(\"Leo\", \"Roar\", \"Lion\"), new Animal(\"Kitty\", \"Roar\", \"Tiger\"), new Animal(\"Fluffy\", \"Baa\", \"sheep\")];\n",
    "\n",
    "// Step 3: Add animals to the zoo\n",
    "// TODO: Create at least 3 animals and push them into the zoo array    \n",
    "// Example:\n",
    "zoo.push(new Animal(\"Buddy\", \"Woof\", \"Dog\"));\n",
    "zoo.push(new Animal(\"Mittens\", \"Meow\", \"Cat\"));\n",
    "zoo.push(new Animal(\"Polly\", \"Squawk\", \"Parrot\"));\n",
    "\n",
    "// Step 4: Loop through all animals and make them speak\n",
    "// TODO: Use a for loop (or forEach) to call speak() on each animal\n",
    "zoo.forEach(animal => {\n",
    "  animal.speak();\n",
    "  // Step 5: Optional bonus: Call describe() too\n",
    "  animal.describe();\n",
    "});\n",
    "\n",
    "// Step 5 Bonus: Let the user add a new animal (works in browser)\n",
    "// Uncomment if running in browser with prompt()\n",
    "// let name = prompt(\"Enter the animal's name:\");\n",
    "// let sound = prompt(\"Enter the sound it makes:\");\n",
    "// let kind = prompt(\"Enter the kind of animal:\");\n",
    "// let newAnimal = new Animal(name, sound, kind);\n",
    "// zoo.push(newAnimal);\n",
    "// newAnimal.speak();\n",
    "// newAnimal.describe();\n",
    "\n"
   ]
  },
  {
   "cell_type": "markdown",
   "id": "efc35c8b",
   "metadata": {},
   "source": [
    "## Homework"
   ]
  },
  {
   "cell_type": "code",
   "execution_count": 32,
   "id": "c47afda8",
   "metadata": {
    "vscode": {
     "languageId": "javascript"
    }
   },
   "outputs": [
    {
     "data": {
      "application/javascript": "\n// Step 1: Make a list of choices\nconst choices = [\"rock\", \"paper\", \"scissors\"];\n\n// Step 2: Ask the user for their choice (browser version with prompt)\n\n//Make a button to choose rock paper and scissors\nconst output = document.createElement(\"div\");\noutput.id = \"output\";\noutput.style.fontSize = \"15px\";\noutput.innerHTML = \"<B>Play Rock Paper Scissors</B><br>\";\nelement.append(output);\n\n//Scissors Button\nconst scissorsButton = document.createElement(\"button\");\nscissorsButton.innerHTML = \"Scissors\";\nscissorsButton.style.margin = \"5px\";\nscissorsButton.style.padding = \"6px 12px\";\nscissorsButton.style.fontSize = \"14px\";\noutput.appendChild(scissorsButton);\nscissorsButton.onclick = () => playGame(\"scissors\");\n\n//Rock Button\nconst rockButton = document.createElement(\"button\");\nrockButton.innerHTML = \"Rock\";\nrockButton.style.margin = \"5px\";\nrockButton.style.padding = \"6px 12px\";\nrockButton.style.fontSize = \"14px\";\noutput.appendChild(rockButton);\nrockButton.onclick = () => playGame(\"rock\");\n\n//Paper Button\nconst paperButton = document.createElement(\"button\");\npaperButton.innerHTML = \"Paper\";\npaperButton.style.margin = \"5px\";\npaperButton.style.padding = \"6px 12px\";\npaperButton.style.fontSize = \"14px\";\noutput.appendChild(paperButton);\npaperButton.onclick = () => playGame(\"paper\");\n\n\n\n\n// Step 4: Compare userChoice and computerChoice\nfunction playGame(userChoice) {\n\n  // Step 3: Computer picks a random choice\nconst computerChoice = choices[Math.floor(Math.random() * choices.length)];\n\n//Result\nlet result;\n\n//Choices display\n console.log(\"You chose:\", userChoice);\n console.log(\"Computer chose:\", computerChoice);\n\nif (userChoice === computerChoice) {\n  console.log(\"It's a tie!\");\n  result = \"It's a tie!\";\n  \n} else if (userChoice === \"rock\" && computerChoice === \"scissors\") {\n  console.log(\"You win!\");\n  result = \"You Win!\";\n} else if (userChoice === \"scissors\" && computerChoice === \"paper\") {\n  console.log(\"You win!\");\n  result = \"You Win!\";\n} else if (userChoice === \"paper\" && computerChoice === \"rock\") {\n  console.log(\"You win!\");\n  result = \"You Win!\";\n} else {\n  console.log(\"You lose!\");\n  result = \"You Lose!\";\n}\n\n//Results to Console\nconsole.log(\"Result:\", result);\n\n//Results to dom\n    let resultDiv = output.querySelector(\".result\");\nif (!resultDiv) {\n  resultDiv = document.createElement(\"div\");\n  resultDiv.className = \"result\";\n  output.appendChild(resultDiv);\n}\n\nresultDiv.innerHTML = ` \nYou chose: ${userChoice}<br>\n      Computer chose: ${computerChoice}<br>\n        <b>${result}</b>\n\n`\n\n}\n// Bonus: Put the whole game in a loop\n\n//Note by James Blazek: I added buttons which when pressed can be played repeatably. This fits the requirment of the bonus.\n",
      "text/plain": [
       "<IPython.core.display.Javascript object>"
      ]
     },
     "metadata": {},
     "output_type": "display_data"
    }
   ],
   "source": [
    "%%javascript\n",
    "\n",
    "// Step 1: Make a list of choices\n",
    "const choices = [\"rock\", \"paper\", \"scissors\"];\n",
    "\n",
    "// Step 2: Ask the user for their choice (browser version with prompt)\n",
    "\n",
    "//Make a button to choose rock paper and scissors\n",
    "const output = document.createElement(\"div\");\n",
    "output.id = \"output\";\n",
    "output.style.fontSize = \"15px\";\n",
    "output.innerHTML = \"<B>Play Rock Paper Scissors</B><br>\";\n",
    "element.append(output);\n",
    "\n",
    "//Scissors Button\n",
    "const scissorsButton = document.createElement(\"button\");\n",
    "scissorsButton.innerHTML = \"Scissors\";\n",
    "scissorsButton.style.margin = \"5px\";\n",
    "scissorsButton.style.padding = \"6px 12px\";\n",
    "scissorsButton.style.fontSize = \"14px\";\n",
    "output.appendChild(scissorsButton);\n",
    "scissorsButton.onclick = () => playGame(\"scissors\");\n",
    "\n",
    "//Rock Button\n",
    "const rockButton = document.createElement(\"button\");\n",
    "rockButton.innerHTML = \"Rock\";\n",
    "rockButton.style.margin = \"5px\";\n",
    "rockButton.style.padding = \"6px 12px\";\n",
    "rockButton.style.fontSize = \"14px\";\n",
    "output.appendChild(rockButton);\n",
    "rockButton.onclick = () => playGame(\"rock\");\n",
    "\n",
    "//Paper Button\n",
    "const paperButton = document.createElement(\"button\");\n",
    "paperButton.innerHTML = \"Paper\";\n",
    "paperButton.style.margin = \"5px\";\n",
    "paperButton.style.padding = \"6px 12px\";\n",
    "paperButton.style.fontSize = \"14px\";\n",
    "output.appendChild(paperButton);\n",
    "paperButton.onclick = () => playGame(\"paper\");\n",
    "\n",
    "\n",
    "\n",
    "\n",
    "// Step 4: Compare userChoice and computerChoice\n",
    "function playGame(userChoice) {\n",
    "\n",
    "  // Step 3: Computer picks a random choice\n",
    "const computerChoice = choices[Math.floor(Math.random() * choices.length)];\n",
    "\n",
    "//Result\n",
    "let result;\n",
    "\n",
    "//Choices display\n",
    " console.log(\"You chose:\", userChoice);\n",
    " console.log(\"Computer chose:\", computerChoice);\n",
    "\n",
    "if (userChoice === computerChoice) {\n",
    "  console.log(\"It's a tie!\");\n",
    "  result = \"It's a tie!\";\n",
    "  \n",
    "} else if (userChoice === \"rock\" && computerChoice === \"scissors\") {\n",
    "  console.log(\"You win!\");\n",
    "  result = \"You Win!\";\n",
    "} else if (userChoice === \"scissors\" && computerChoice === \"paper\") {\n",
    "  console.log(\"You win!\");\n",
    "  result = \"You Win!\";\n",
    "} else if (userChoice === \"paper\" && computerChoice === \"rock\") {\n",
    "  console.log(\"You win!\");\n",
    "  result = \"You Win!\";\n",
    "} else {\n",
    "  console.log(\"You lose!\");\n",
    "  result = \"You Lose!\";\n",
    "}\n",
    "\n",
    "//Results to Console\n",
    "console.log(\"Result:\", result);\n",
    "\n",
    "//Results to dom\n",
    "    let resultDiv = output.querySelector(\".result\");\n",
    "if (!resultDiv) {\n",
    "  resultDiv = document.createElement(\"div\");\n",
    "  resultDiv.className = \"result\";\n",
    "  output.appendChild(resultDiv);\n",
    "}\n",
    "\n",
    "resultDiv.innerHTML = ` \n",
    "You chose: ${userChoice}<br>\n",
    "      Computer chose: ${computerChoice}<br>\n",
    "        <b>${result}</b>\n",
    "\n",
    "`\n",
    "\n",
    "}\n",
    "// Bonus: Put the whole game in a loop\n",
    "\n",
    "//Note by James Blazek: I added buttons which when pressed can be played repeatably. This fits the requirment of the bonus."
   ]
  },
  {
   "cell_type": "markdown",
   "id": "b0c99301",
   "metadata": {},
   "source": [
    "## Sumbmission!"
   ]
  },
  {
   "cell_type": "markdown",
   "id": "2c838d30",
   "metadata": {},
   "source": [
    "https://forms.gle/2aPP6CXFdQnNaE7GA"
   ]
  }
 ],
 "metadata": {
  "kernelspec": {
   "display_name": "Python 3",
   "language": "python",
   "name": "python3"
  },
  "language_info": {
   "codemirror_mode": {
    "name": "ipython",
    "version": 3
   },
   "file_extension": ".py",
   "mimetype": "text/x-python",
   "name": "python",
   "nbconvert_exporter": "python",
   "pygments_lexer": "ipython3",
   "version": "3.13.5"
  }
 },
 "nbformat": 4,
 "nbformat_minor": 5
}
