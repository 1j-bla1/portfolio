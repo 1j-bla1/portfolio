{
 "cells": [
  {
   "cell_type": "raw",
   "id": "f46d5103",
   "metadata": {
    "vscode": {
     "languageId": "raw"
    }
   },
   "source": [
    "---\n",
    "layout: post\n",
    "title: Classes and Constructors Homework\n",
    "description:  Classes and Constructors Homework\n",
    "categories: [Javascript, Homework]\n",
    "permalink: /classes-constructors-HW\n",
    "author: Makers\n",
    "---"
   ]
  },
  {
   "cell_type": "markdown",
   "id": "b0f73322",
   "metadata": {},
   "source": [
    "## <u>JavaScript Classes and Constructors Homework<u>\n",
    "By now you should have a decent grasp of classes and constructors, and how to make and build one. The following exercises should help you solidify your understanding of classes and constructors in JavaScript."
   ]
  },
  {
   "cell_type": "markdown",
   "id": "4be7bd0a",
   "metadata": {
    "vscode": {
     "languageId": "javascript"
    }
   },
   "source": [
    "## Popcorn Hack 1\n",
    "1. The class TennisPlayer has been defined for you. Create a constructor with the arguements name, rank, and rankPoints.\n",
    "2. Call the class with the arguments Novak Djokovic, 1, 16000. \n",
    "3. Add one or more of the following arguments to the initial constructor: age, tournamentsPlayed, titlesWon. Add this as part of the profile output."
   ]
  },
  {
   "cell_type": "code",
   "execution_count": null,
   "id": "7399ab93",
   "metadata": {
    "vscode": {
     "languageId": "javascript"
    }
   },
   "outputs": [
    {
     "data": {
      "application/javascript": "\n//James Comment: This is the TennisPlayer class\nclass TennisPlayer {\n    constructor(name, rank, rankPoints,age) {\n        //James Comment: Added name rank and rankpoints here\n        this.name = name;\n        this.rank = rank;\n        this.rankPoints = rankPoints;\n        this.age = age;\n    }\n    profile () {\n        console.log(\"Hi my name is \" + this.name + \", my rank is \" + this.rank + \", I have \" + this.rankPoints + \" ranking points\" + \", and I am \" + this.age + \" years old.\");\n    }\n\n};\n\n//Call the class here\n\n//James Comment: This finally calls the class\nlet player1 = new TennisPlayer(\"Novak Djokovic\", 1, 16000, 38);\nplayer1.profile();\n\n//James Comment: This now outputs the sentence \"Hi my name is Novak Djokovic, my rank is 1, I have 16000 ranking points, and I am 38 years old.\" to the console log.\n",
      "text/plain": [
       "<IPython.core.display.Javascript object>"
      ]
     },
     "metadata": {},
     "output_type": "display_data"
    }
   ],
   "source": [
    "%%javascript\n",
    "\n",
    "//James Comment: This is the TennisPlayer class\n",
    "class TennisPlayer {\n",
    "    constructor(name, rank, rankPoints,age) {\n",
    "        //James Comment: Added name rank and rankpoints here\n",
    "        this.name = name;\n",
    "        this.rank = rank;\n",
    "        this.rankPoints = rankPoints;\n",
    "        this.age = age;\n",
    "    }\n",
    "    profile () {\n",
    "        console.log(\"Hi my name is \" + this.name + \", my rank is \" + this.rank + \", I have \" + this.rankPoints + \" ranking points\" + \", and I am \" + this.age + \" years old.\");\n",
    "    }\n",
    "\n",
    "};\n",
    "\n",
    "//Call the class here\n",
    "\n",
    "//James Comment: This finally calls the class\n",
    "let player1 = new TennisPlayer(\"Novak Djokovic\", 1, 16000, 38);\n",
    "player1.profile();\n",
    "\n",
    "//James Comment: This now outputs the sentence \"Hi my name is Novak Djokovic, my rank is 1, I have 16000 ranking points, and I am 38 years old.\" to the console log.\n",
    "//James Comment: I couldnt get dom to work so I just have to console log"
   ]
  },
  {
   "cell_type": "markdown",
   "id": "847cedc1",
   "metadata": {},
   "source": [
    "## Popcorn Hack 2\n",
    "\n",
    "1. Create a class called library\n",
    "2. Within library create a class called book with a constructors that allows the two methods - add book and remove book\n",
    "3. Add another inner class called computers - and have it output the number of computers on\n",
    "\n",
    "Below is the starter code to get you started"
   ]
  },
  {
   "cell_type": "code",
   "execution_count": 39,
   "id": "e7bad2b3",
   "metadata": {
    "vscode": {
     "languageId": "javascript"
    }
   },
   "outputs": [
    {
     "data": {
      "application/javascript": "// Step 1: Create the main class called Library\nclass Library {\n    constructor(name) {\n        this.name = name;\n        console.log(`Welcome to the`, this.name, `Library!`);\n    }\n\n    // Step 2: Create an inner class called Book\n    static Book = class {\n        constructor() {\n            this.books = []; // James Comment: This starts the book list\n        }\n        //create a constructor with that takes the this.books argument.\n\n        addBook(title) {\n            this.books.push(title);\n            console.log(`Added \"${title}\" to the library.`);\n        }\n\n        removeBook(title) { \n            const index = this.books.indexOf(title);\n            if (index > -1) {\n                this.books.splice(index, 1);\n                console.log(`Removed \"${title}\" from the library.`);\n            } else {\n                console.log(`\"${title}\" not found in the library.`);\n            }\n        }\n    }\n\n    // Step 3: Create another inner class called Computers\n    static Computers = class {\n        constructor(computersOn) {\n            this.computersOn = computersOn; \n        }\n         showComputersOn() {\n            console.log(`There are ${this.computersOn} computers currently on.`); \n        }\n    }\n}\n\n// --- Example Usage ---\n\n//James Comment: By uncommenting this is what will be outputed to the console log\n const myLibrary = new Library(\"Downtown\");\n const bookManager = new Library.Book();\n const techRoom = new Library.Computers(8);\n\n bookManager.addBook(\"The Hobbit\");\n bookManager.addBook(\"1984\");\n bookManager.removeBook(\"The Hobbit\");\n techRoom.showComputersOn();\n\n //James Comment: I added a javascript tag to the top so the code will actually output to the console log.\n",
      "text/plain": [
       "<IPython.core.display.Javascript object>"
      ]
     },
     "metadata": {},
     "output_type": "display_data"
    }
   ],
   "source": [
    "%%javascript\n",
    "// Step 1: Create the main class called Library\n",
    "class Library {\n",
    "    constructor(name) {\n",
    "        this.name = name;\n",
    "        console.log(`Welcome to the`, this.name, `Library!`);\n",
    "    }\n",
    "\n",
    "    // Step 2: Create an inner class called Book\n",
    "    static Book = class {\n",
    "        constructor() {\n",
    "            this.books = []; // James Comment: This starts the book list\n",
    "        }\n",
    "        //create a constructor with that takes the this.books argument.\n",
    "\n",
    "        addBook(title) {\n",
    "            this.books.push(title);\n",
    "            console.log(`Added \"${title}\" to the library.`);\n",
    "        }\n",
    "\n",
    "        removeBook(title) { \n",
    "            const index = this.books.indexOf(title);\n",
    "            if (index > -1) {\n",
    "                this.books.splice(index, 1);\n",
    "                console.log(`Removed \"${title}\" from the library.`);\n",
    "            } else {\n",
    "                console.log(`\"${title}\" not found in the library.`);\n",
    "            }\n",
    "        }\n",
    "    }\n",
    "\n",
    "    // Step 3: Create another inner class called Computers\n",
    "    static Computers = class {\n",
    "        constructor(computersOn) {\n",
    "            this.computersOn = computersOn; \n",
    "        }\n",
    "         showComputersOn() {\n",
    "            console.log(`There are ${this.computersOn} computers currently on.`); \n",
    "        }\n",
    "    }\n",
    "}\n",
    "\n",
    "// --- Example Usage ---\n",
    "\n",
    "//James Comment: By uncommenting this is what will be outputed to the console log\n",
    " const myLibrary = new Library(\"Downtown\");\n",
    " const bookManager = new Library.Book();\n",
    " const techRoom = new Library.Computers(8);\n",
    "\n",
    " bookManager.addBook(\"The Hobbit\");\n",
    " bookManager.addBook(\"1984\");\n",
    " bookManager.removeBook(\"The Hobbit\");\n",
    " techRoom.showComputersOn();\n",
    "\n",
    " //James Comment: I added a javascript tag to the top so the code will actually output to the console log.\n"
   ]
  },
  {
   "cell_type": "markdown",
   "id": "24d1fadb",
   "metadata": {},
   "source": [
    "## Homework\n",
    "Create and expand the Cookie Clicker project:\n",
    "1. Fill out the cookies and cookiesPerClick variables.\n",
    "2. Define what should happen upon clicking the cookie.\n",
    "3. Create an `Upgrade` class that multiplies cookies per click, and expand the original cookieclicker class to integrate upgardes.\n",
    "5. Print how each upgrade changes the total cookie output.\n",
    "6. Add a cookie type variable which sets the specific type of cookie (ex: Chocolate chip, Oatmeal, etc.)\n",
    "The following code is to help you get started.\n",
    "\n",
    "#### Extra credit: Up to 0.03 points\n",
    "- Create a new cell, apply the ALL of the above changes to a blank cookie clicker project, and submit that code for the cookie clicker project."
   ]
  },
  {
   "cell_type": "code",
   "execution_count": null,
   "id": "e9c84d6f",
   "metadata": {
    "vscode": {
     "languageId": "javascript"
    }
   },
   "outputs": [
    {
     "data": {
      "application/javascript": "\nclass CookieClicker {\n  constructor(cookies,cookiesPerClick) {\n\n    //Part 1.cookies and cookiesPerClick variables\n    this.cookies = cookies; //start value\n    this.cookiesPerClick = cookiesPerClick;\n  }\n\n  click() {\n    //Part 2. Define what happens when cookie is clicked\n    //James Comment: Here I added another console log which will asy you clicked a cookie to fit the second problems requirments\n    this.cookies += this.cookiesPerClick;\n     console.log(\"You clicked a cookie!\");\n    console.log(\"You have \" + this.cookies + \" cookies.\");\n  }\n\n  //Part 3. Create a upgrade class that mutliplies cokkies per click\n applyUpgrade(upgrade) {\n    this.cookiesPerClick *= upgrade.multiplier;\n      // Problem 4: Show change in cookie output\n    console.log(\"Upgrade applied! Multiplier:\" + upgrade.multiplier);\n    this.showStatus(); \n  }\n}\n\nclass Upgrade {\n  constructor(multiplier) {\n    this.multiplier = multiplier;\n  }\n}\n\n\n\n",
      "text/plain": [
       "<IPython.core.display.Javascript object>"
      ]
     },
     "metadata": {},
     "output_type": "display_data"
    }
   ],
   "source": [
    "%%javascript\n",
    "\n",
    "class CookieClicker {\n",
    "  constructor(cookies,cookiesPerClick) {\n",
    "\n",
    "    //Part 1.cookies and cookiesPerClick variables\n",
    "    this.cookies = cookies; //start value\n",
    "    this.cookiesPerClick = cookiesPerClick;\n",
    "  }\n",
    "\n",
    "  click() {\n",
    "    //Part 2. Define what happens when cookie is clicked\n",
    "    //James Comment: Here I added another console log which will asy you clicked a cookie to fit the second problems requirments\n",
    "    this.cookies += this.cookiesPerClick;\n",
    "     console.log(\"You clicked a cookie!\");\n",
    "    console.log(\"You have \" + this.cookies + \" cookies.\");\n",
    "  }\n",
    "\n",
    "  //Part 3. Create a upgrade class that mutliplies cokkies per click\n",
    " applyUpgrade(upgrade) {\n",
    "    this.cookiesPerClick *= upgrade.multiplier;\n",
    "      // Part 4: Show change in cookie output\n",
    "    console.log(\"Upgrade applied! Multiplier: \" + upgrade.multiplier);\n",
    "    this.showStatus(); \n",
    "  }\n",
    "}\n",
    "\n",
    "class Upgrade {\n",
    "  constructor(multiplier) {\n",
    "    this.multiplier = multiplier;\n",
    "  }\n",
    "}\n",
    "\n",
    "\n",
    "\n"
   ]
  },
  {
   "cell_type": "markdown",
   "id": "0180a89f",
   "metadata": {},
   "source": [
    "This is where you will find homework: [Github Homework Link](https://github.com/Open-Coding-Society/pages/tree/main/_notebooks/CSSE/JavaScriptLessons/Classes_and_Methods)"
   ]
  }
 ],
 "metadata": {
  "kernelspec": {
   "display_name": "venv",
   "language": "python",
   "name": "python3"
  },
  "language_info": {
   "name": "python",
   "version": "3.12.3"
  }
 },
 "nbformat": 4,
 "nbformat_minor": 5
}
