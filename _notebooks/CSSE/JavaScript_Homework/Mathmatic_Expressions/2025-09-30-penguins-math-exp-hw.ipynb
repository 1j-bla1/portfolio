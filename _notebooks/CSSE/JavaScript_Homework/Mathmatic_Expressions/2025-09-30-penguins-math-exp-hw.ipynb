{
 "cells": [
  {
   "cell_type": "raw",
   "id": "96d9c6da",
   "metadata": {
    "vscode": {
     "languageId": "raw"
    }
   },
   "source": [
    "---\n",
    "layout: post\n",
    "data: js-lessons\n",
    "title: Penguins - Mathematical Expressions Homework\n",
    "categories: [JavaScript]\n",
    "permalink: /penguins/js-lessons/homework/math-expressions\n",
    "---"
   ]
  },
  {
   "cell_type": "markdown",
   "id": "9dd3192a",
   "metadata": {
    "vscode": {
     "languageId": "plaintext"
    }
   },
   "source": [
    "# JS Lessons\n",
    "\n",
    "<a href=\"https://drive.google.com/uc?export=download&id=1YU6jmyKud005lcsUkawXHZZVPdU7kikW\" download><b>Download Homework</b></a> <br/>\n",
    "<a href=\"https://docs.google.com/forms/d/e/1FAIpQLSfwgZR0QYAg_uYuZ7XqqEm-xlU0-gZFE2dtgnKEe5kH7Yp0Vg/viewform?usp=dialog\"><b>Submission Google Form for Homework</b></a>\n",
    "\n",
    "## **Mathematical Expressions Homework**\n",
    "In order to learn this subject of programming well, you have to practice:\n",
    "\n",
    "> Task 1: Make 2 variables `x`, and `y`. Compute 3 different operations and log it into the console with console.log();\n",
    "\n",
    "> Task 2: Build a system of functions that represent different mathematical expressions. Each of these functions will perform a different mathematical operation(ex: add, subtract). Make at least 5 of these different functions. \n",
    "\n",
    "---"
   ]
  },
  {
   "cell_type": "markdown",
   "id": "83533354",
   "metadata": {},
   "source": [
    "## Task 1:\n",
    "\n",
    "Create 2 variables `x` and `y`. With the output area below, provide 3 different operators used with the 2 variables<br/>(`ex: let sum = x + y;`)<br/> and fill in the output with a sentence that provides all three operators and their respective answer."
   ]
  },
  {
   "cell_type": "code",
   "execution_count": null,
   "id": "c26ad088",
   "metadata": {
    "vscode": {
     "languageId": "html"
    }
   },
   "outputs": [],
   "source": [
    "%%html\n",
    "\n",
    "<h3>Homework Part 1</h3>\n",
    "<div id=\"homework1\"></div>\n",
    "<script>    \n",
    "(() => {\n",
    "    // Your variables go here\n",
    "    let x = 6\n",
    "    let y = 12\n",
    "\n",
    "    // Third Variable\n",
    "    let w = 30\n",
    "    //My 3 operators // What happens in this equation is that y is multiplied by x which is 6 times 12. This gets you 72. Then you add x which is equal to 6. After doing this you get 78 subtracted by w(30) you get 48.\n",
    "let total= x + y * x - w;\n",
    "    // Put the answer for the 3 operators in this DOM element\n",
    "    document.getElementById(\"homework1\").innerText = \"Final Number From Equation: \" + total;\n",
    "})();\n",
    "</script>"
   ]
  },
  {
   "cell_type": "markdown",
   "id": "221d4674",
   "metadata": {},
   "source": [
    "---\n",
    "\n",
    "## Task 2:\n",
    "\n",
    "### Example function:\n",
    "\n",
    "```\n",
    "function add(a, b)\n",
    "{\n",
    "\treturn a + b;\n",
    "}\n",
    "```\n",
    "\n",
    "### Some ideas you can use:\n",
    "- Multiply Function\n",
    "- Square root function\n",
    "- Cube root function\n",
    "\n",
    "---\n"
   ]
  },
  {
   "cell_type": "markdown",
   "id": "03f3fc78",
   "metadata": {
    "vscode": {
     "languageId": "html"
    }
   },
   "source": [
    "Now that you have seen the example, you will start writing your custom functions in the html code block below: <br>\n",
    "<u> Make sure to follow each comment on where to write your code, don't modify any existing code. </u>\n",
    "\n",
    "<br><br>\n"
   ]
  },
  {
   "cell_type": "code",
   "execution_count": null,
   "id": "a1af04c7",
   "metadata": {
    "vscode": {
     "languageId": "html"
    }
   },
   "outputs": [
    {
     "data": {
      "text/html": [
       "\n",
       "<!-- This is where the outputs of your functions will go: -->\n",
       "<h2>Function outputs:</h2>\n",
       "\n",
       "\n",
       "<!-- Modify each of the button onclick fields to call your functions: -->\n",
       "<!-- Make sure when the function is called you input your parameters. -->\n",
       "<!-- (Optional) You can also change the text each button displays if you want. -->\n",
       "<button type=\"button\" onclick=\"Add(4,5)\">Function Output 1</button>\n",
       "<div id=\"functionOutput1\"></div>\n",
       "<br>\n",
       "\n",
       "<button type=\"button\" onclick=\"Multiplication(2,3)\">Function Output 2</button>\n",
       "<div id=\"functionOutput2\"></div>\n",
       "<br>\n",
       "\n",
       "<button type=\"button\" onclick=\"Division(18,3)\">Function Output 3</button>\n",
       "<div id=\"functionOutput3\"></div>\n",
       "<br>\n",
       "\n",
       "<button type=\"button\" onclick=\"Subtraction(10,5)\">Function Output 4</button>\n",
       "<div id=\"functionOutput4\"></div>\n",
       "<br>\n",
       "\n",
       "<button type=\"button\" onclick=\"Mix(6,5,3,2)\">Function Output 5</button>\n",
       "<div id=\"functionOutput5\"></div>\n",
       "<br>\n",
       "\n",
       "\n",
       "<!-- You will write the code for your functions in this script area  -->\n",
       "<script>\n",
       "\n",
       "\t//Comment by James Blazek: This is function 1 and is your example. It works by adding a and b. A is 4 and b is 5 equaling 9.\n",
       "\t//Example function (you can use this if you want):\n",
       "\tfunction Add(a,b)\n",
       "\t{\n",
       "\t\tlet result = a + b;\n",
       "\t\t\n",
       "\t\t// This line is important. It is what changes the output text section to the result of the function\n",
       "\t\tdocument.getElementById(\"functionOutput1\").innerText = result;\n",
       "\t}\n",
       "\n",
       "\t// Add all of your own functions here:\n",
       "\n",
       "//Function 2// This function multiplies a and b then multiples it by a again. When output a is equal to 2 and b is equal to 3. The equation because 2 times 3 times 2 which outputs 12.\n",
       "\tfunction Multiplication(a,b)\n",
       "\t{\n",
       "\t\tlet result = a * b * a;\n",
       "\t\tdocument.getElementById(\"functionOutput2\").innerText = result;\n",
       "\t}\n",
       "\n",
       "//Function 3// This function divides a by b then by b again. A is equal to 18 and b is equal to 3. When this code is run 18(a) is divided by 3(b) giving you 6. 6 is then divided by 3(b) which finally outputs 2.\n",
       "function Division(a,b){\n",
       "\tlet result = a / b / b;\n",
       "\tdocument.getElementById(\"functionOutput3\").innerText = result;\n",
       "}\n",
       "\n",
       "//Function 4// This function subtracts a from b then subtracts a again. In the dom A is equal to 10 and b is equal to 5. This makes the equation 10(a) - 5(b) -10(a). 10-5 equals 5. Then 5 - 10 equals negative giving the final number.\n",
       "function Subtraction(a,b){\n",
       "\tlet result= a - b - a\n",
       "\tdocument.getElementById(\"functionOutput4\").innerText = result;\n",
       "}\n",
       "\t\n",
       "//Function 5- Mix of all concepts\n",
       "function Mix(a,b,c,d){\n",
       "\tlet result = a + b * c - a / d;\n",
       "\tdocument.getElementById(\"functionOutput5\").innerText = result;\n",
       "}\n",
       "\n",
       "\t// You can make them do any mathematical expression, just make sure they change the text of one of the output sections\n",
       "</script>\n",
       "\n"
      ],
      "text/plain": [
       "<IPython.core.display.HTML object>"
      ]
     },
     "metadata": {},
     "output_type": "display_data"
    }
   ],
   "source": [
    "%%html\n",
    "\n",
    "<!-- This is where the outputs of your functions will go: -->\n",
    "<h2>Function outputs:</h2>\n",
    "\n",
    "\n",
    "<!-- Modify each of the button onclick fields to call your functions: -->\n",
    "<!-- Make sure when the function is called you input your parameters. -->\n",
    "<!-- (Optional) You can also change the text each button displays if you want. -->\n",
    "<button type=\"button\" onclick=\"Add(4,5)\">Function Output 1</button>\n",
    "<div id=\"functionOutput1\"></div>\n",
    "<br>\n",
    "\n",
    "<button type=\"button\" onclick=\"Multiplication(2,3)\">Function Output 2</button>\n",
    "<div id=\"functionOutput2\"></div>\n",
    "<br>\n",
    "\n",
    "<button type=\"button\" onclick=\"Division(18,3)\">Function Output 3</button>\n",
    "<div id=\"functionOutput3\"></div>\n",
    "<br>\n",
    "\n",
    "<button type=\"button\" onclick=\"Subtraction(10,5)\">Function Output 4</button>\n",
    "<div id=\"functionOutput4\"></div>\n",
    "<br>\n",
    "\n",
    "<button type=\"button\" onclick=\"Mix(6,5,3,2)\">Function Output 5</button>\n",
    "<div id=\"functionOutput5\"></div>\n",
    "<br>\n",
    "\n",
    "<button type=\"button\" onclick=\"Mix(6,5,3,2)\">Function Output 6</button>\n",
    "<div id=\"functionOutput6\"></div>\n",
    "<br>\n",
    "\n",
    "\n",
    "<!-- You will write the code for your functions in this script area  -->\n",
    "<script>\n",
    "\n",
    "\t//Comment by James Blazek: This is function 1 and is your example. It works by adding a and b. A is 4 and b is 5 equaling 9.\n",
    "\t//Example function (you can use this if you want):\n",
    "\tfunction Add(a,b)\n",
    "\t{\n",
    "\t\tlet result = a + b;\n",
    "\t\t\n",
    "\t\t// This line is important. It is what changes the output text section to the result of the function\n",
    "\t\tdocument.getElementById(\"functionOutput1\").innerText = result;\n",
    "\t}\n",
    "\n",
    "\t// Add all of your own functions here:\n",
    "\n",
    "//Function 2// This function multiplies a and b then multiples it by a again. When output a is equal to 2 and b is equal to 3. The equation because 2 times 3 times 2 which outputs 12.\n",
    "\tfunction Multiplication(a,b)\n",
    "\t{\n",
    "\t\tlet result = a * b * a;\n",
    "\t\tdocument.getElementById(\"functionOutput2\").innerText = result;\n",
    "\t}\n",
    "\n",
    "//Function 3// This function divides a by b then by b again. A is equal to 18 and b is equal to 3. When this code is run 18(a) is divided by 3(b) giving you 6. 6 is then divided by 3(b) which finally outputs 2.\n",
    "function Division(a,b){\n",
    "\tlet result = a / b / b;\n",
    "\tdocument.getElementById(\"functionOutput3\").innerText = result;\n",
    "}\n",
    "\n",
    "//Function 4// This function subtracts a from b then subtracts a again. In the dom A is equal to 10 and b is equal to 5. This makes the equation 10(a) - 5(b) -10(a). 10-5 equals 5. Then 5 - 10 equals negative giving the final number.\n",
    "function Subtraction(a,b){\n",
    "\tlet result= a - b - a\n",
    "\tdocument.getElementById(\"functionOutput4\").innerText = result;\n",
    "}\n",
    "\t\n",
    "//Function 6- Mix of all concepts// In this equation a=6 b=5 c=3 and d=2; This makes the equation 6(a) + 5(b) * 3(c) - 6(a) / 2(d). First you do 5 * 3 amd 6 divided by 2 because of PEMDAS. This makes the equation 6(a)+ 15(b and c multiplied) - 3(a and d divided)\n",
    "//6 + 15 equals 21. 21 minus 3 equals 18 which is the final output.\n",
    "function Mix(a,b,c,d){\n",
    "\tlet result = a + b * c - a / d;\n",
    "\tdocument.getElementById(\"functionOutput6\").innerText = result;\n",
    "}\n",
    "\n",
    "\t// You can make them do any mathematical expression, just make sure they change the text of one of the output sections\n",
    "</script>\n",
    "\n"
   ]
  },
  {
   "cell_type": "markdown",
   "id": "6c6c906a",
   "metadata": {},
   "source": [
    "## Final instructions\n",
    "\n",
    "1. Make 5 different functions, each with different operators/expressions:\n",
    "\n",
    "- Addition\n",
    "- Subtraction\n",
    "- Multiplication\n",
    "- Exponential\n",
    "- Modulus\n",
    "\n",
    "2. Be able to use the functions as well as <code>document.getElementById</code> to make the buttons output the result.\n",
    "\n",
    "3. Have fun! Mess around with different variables with different values, and maybe see if you can make any complex equations like the ones you're learning in your math class. The end objective is for you to be able to use and understand math expressions.\n",
    "\n",
    "<b>Grading</b>\n",
    "\n",
    "Part 1: Completion gives 0.4 points. 0.01 point will be given if DOM sentence is grammatically correct<br/><br/>\n",
    "\n",
    "Part 2: Completion gives 0.5 points. Max of 0.02 extra points from extra work relevant to the subject or finishing assignment in a way that shows <u>exceptional</u> comprehension of the lesson."
   ]
  },
  {
   "cell_type": "markdown",
   "id": "9f94ed4c",
   "metadata": {
    "vscode": {
     "languageId": "html"
    }
   },
   "source": [
    "<a href=\"https://docs.google.com/forms/d/e/1FAIpQLSfwgZR0QYAg_uYuZ7XqqEm-xlU0-gZFE2dtgnKEe5kH7Yp0Vg/viewform?usp=dialog\"><b>Submission Google Form for Homework</b></a>"
   ]
  }
 ],
 "metadata": {
  "kernelspec": {
   "display_name": "Python 3",
   "language": "python",
   "name": "python3"
  },
  "language_info": {
   "codemirror_mode": {
    "name": "ipython",
    "version": 3
   },
   "file_extension": ".py",
   "mimetype": "text/x-python",
   "name": "python",
   "nbconvert_exporter": "python",
   "pygments_lexer": "ipython3",
   "version": "3.13.7"
  }
 },
 "nbformat": 4,
 "nbformat_minor": 5
}
