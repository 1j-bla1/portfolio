{
 "cells": [
  {
   "cell_type": "markdown",
   "id": "96d9c6da",
   "metadata": {},
   "source": [
    "---\n",
    "layout: post\n",
    "data: js-lessons\n",
    "title: Penguins - Mathematical Expressions Homework\n",
    "categories: [JavaScript]\n",
    "permalink: /penguins/js-lessons/homework/math-expressions\n",
    "---"
   ]
  },
  {
   "cell_type": "markdown",
   "id": "9dd3192a",
   "metadata": {
    "vscode": {
     "languageId": "plaintext"
    }
   },
   "source": [
    "# Penguins JS Lessons\n",
    "\n",
    "<a href=\"https://github.com/Comp-Sci-Team/js-lesson_pages/blob/main/_notebooks/CSSE/JavaScriptLessons/Mathematic_Expressions/2025-09-30-penguins-math-exp-hw.ipynb\" download><b>Download Homework</b></a> <br/>\n",
    "<a href=\"https://docs.google.com/forms/d/e/1FAIpQLSfwgZR0QYAg_uYuZ7XqqEm-xlU0-gZFE2dtgnKEe5kH7Yp0Vg/viewform?usp=dialog\"><b>Submission Google Form for Homework</b></a>\n",
    "\n",
    "## **Mathematical Expressions Homework**\n",
    "In order to learn this subject of programming well, you have to practice:\n",
    "\n",
    "> Popcorn hack 1: operations with variables\n",
    "\n",
    "> Popcorn hack 2: Make 2 variables `x`, and `y`. Compute 3 different operations and log it into the console with console.log();\n",
    "\n",
    "> Final Task: Build a system of functions that represent different mathematical expressions. Each of these functions will perform a different mathematical operation(ex: add, subtract). Make at least 5 of these different functions. \n",
    "\n",
    "---"
   ]
  },
  {
   "cell_type": "markdown",
   "id": "15bf7fb3",
   "metadata": {},
   "source": [
    "## <b>Popcorn Hack 1 (Progress Check)</b>\n",
    "\n",
    "<b>Part 1:</b><br/>\n",
    "In the javascript node below, make 2 variables, `num1` set to 6 and `num2` set to 3, then write the equation `(num1 * num2) + (num1 / 2)`.\n",
    "\n",
    "The output should be 21.<br/>\n",
    "<br/>\n",
    "<b>Part 2:</b><br/>\n",
    "Next, keeping the same variables, add a new variable called `total` that is equal to the equation `num1 / num2 + 2 ** 3`, and this time make the equation<br/><br/> `(total + 15) - numb1 ** 2 / 4` <br/><br/>\n",
    "\n",
    "Write this code below:"
   ]
  },
  {
   "cell_type": "code",
   "execution_count": 5,
   "id": "529d98c6",
   "metadata": {
    "vscode": {
     "languageId": "javascript"
    }
   },
   "outputs": [
    {
     "data": {
      "application/javascript": "\n(() => {\n// put your popcorn hack 1 code here:\nlet num1 = 6;\nlet num2 = 3;\n\n//Part 2 make total variable\nlet total;\nlet finalAnswer;\n\nlet result = (num1 * num2) + (num1 / 2);\n//This equation is written as 6 / 3 + 2^3\ntotal= num1 / num2 + 2 **3;\n\nfinalAnswer = (total+15) - num1 ** 2/4;\n\nconsole.log(\"Part 1: \" + total);\nconsole.log(\"Part 2: \" + finalAnswer);\n\n})();\n",
      "text/plain": [
       "<IPython.core.display.Javascript object>"
      ]
     },
     "metadata": {},
     "output_type": "display_data"
    }
   ],
   "source": [
    "%%javascript\n",
    "\n",
    "(() => {\n",
    "// put your popcorn hack 1 code here:\n",
    "let num1 = 6;\n",
    "let num2 = 3;\n",
    "\n",
    "//Part 2 make total variable\n",
    "let total;\n",
    "let finalAnswer;\n",
    "\n",
    "let result = (num1 * num2) + (num1 / 2);\n",
    "//This equation is written as 6 / 3 + 2^3\n",
    "total= num1 / num2 + 2 **3;\n",
    "\n",
    "finalAnswer = (total+15) - num1 ** 2/4;\n",
    "\n",
    "console.log(\"Part 1: \" + total);\n",
    "console.log(\"Part 2: \" + finalAnswer);\n",
    "\n",
    "})();"
   ]
  },
  {
   "cell_type": "markdown",
   "id": "83533354",
   "metadata": {},
   "source": [
    "---\n",
    "\n",
    "## Popcorn Hack 2 (Progress check):\n",
    "\n",
    "Create 2 variables `x` and `y`. With the output area below, provide 3 different operators used with the 2 variables<br/>(`ex: let sum = x + y;`)<br/> and fill in the output with a sentence that provides all three operators and their respective answer."
   ]
  },
  {
   "cell_type": "code",
   "execution_count": 18,
   "id": "c26ad088",
   "metadata": {
    "vscode": {
     "languageId": "html"
    }
   },
   "outputs": [
    {
     "data": {
      "text/html": [
       "\n",
       "<h3>Popcorn hack 2 output</h3>\n",
       "<div id=\"homework1\"></div>\n",
       "<script>    \n",
       "(() => {\n",
       "    // Your variables go here\n",
       "    //James Blazek Comment: I added a third variable for extra numbers to use\n",
       "    let x = 6\n",
       "    let y = 12\n",
       "    let w = 30\n",
       "\n",
       "\t// put your operations here:\n",
       "\t// feel free to do any operation and change the names of the variables\n",
       "\tlet operation1 = w - y + x;\n",
       "\tlet operation2 = y / x + w;\n",
       "\tlet operation3 = x * y - w;\n",
       "\n",
       "\n",
       "    //Console Log\n",
       "    console.log(\"Operation 1 Output: \" + operation1 + \"\\nOperation 2 Output: \" + operation2 + \"\\nOperation 3 Output: \" + operation3);\n",
       "    // Put the answer for the 3 operators in this DOM element\n",
       "    document.getElementById(\"homework1\").innerText = \"Operation 1 Output: \" + operation1 + \"\\nOperation 2 Output: \" + operation2 + \"\\nOperation 3 Output: \" + operation3;\n",
       "})();\n",
       "</script>\n"
      ],
      "text/plain": [
       "<IPython.core.display.HTML object>"
      ]
     },
     "metadata": {},
     "output_type": "display_data"
    }
   ],
   "source": [
    "%%html\n",
    "\n",
    "<h3>Popcorn hack 2 output</h3>\n",
    "<div id=\"homework1\"></div>\n",
    "<script>    \n",
    "(() => {\n",
    "    // Your variables go here\n",
    "    //James Blazek Comment: I added a third variable for extra numbers to use\n",
    "    let x = 6\n",
    "    let y = 12\n",
    "    let w = 30\n",
    "\n",
    "\t// put your operations here:\n",
    "\t// feel free to do any operation and change the names of the variables\n",
    "\tlet operation1 = w - y + x;\n",
    "\tlet operation2 = y / x + w;\n",
    "\tlet operation3 = x * y - w;\n",
    "\n",
    "\n",
    "    //Console Log\n",
    "    console.log(\"Operation 1 Output: \" + operation1 + \"\\nOperation 2 Output: \" + operation2 + \"\\nOperation 3 Output: \" + operation3);\n",
    "    // Put the answer for the 3 operators in this DOM element\n",
    "    document.getElementById(\"homework1\").innerText = \"Operation 1 Output: \" + operation1 + \"\\nOperation 2 Output: \" + operation2 + \"\\nOperation 3 Output: \" + operation3;\n",
    "})();\n",
    "</script>"
   ]
  },
  {
   "cell_type": "markdown",
   "id": "221d4674",
   "metadata": {},
   "source": [
    "---\n",
    "\n",
    "## Final Task:\n",
    "\n",
    "1. Make 5 different functions, each with different operators/expressions:\n",
    "\n",
    "- Addition\n",
    "- Subtraction\n",
    "- Multiplication\n",
    "- Exponential\n",
    "- Modulus\n",
    "\n",
    "2. Be able to use the functions as well as <code>document.getElementById</code> to make the buttons output the result.\n",
    "\n",
    "3. Have fun! Mess around with different variables with different values, and maybe see if you can make any complex equations like the ones you're learning in your math class. The end objective is for you to be able to use and understand math expressions.\n",
    "\n",
    "\n",
    "### Example function:\n",
    "\n",
    "```\n",
    "function add(a, b)\n",
    "{\n",
    "\treturn a + b;\n",
    "}\n",
    "```\n",
    "\n",
    "### Some ideas you can use:\n",
    "- Multiply Function\n",
    "- Square root function\n",
    "- Cube root function\n",
    "\n",
    "---\n"
   ]
  },
  {
   "cell_type": "markdown",
   "id": "03f3fc78",
   "metadata": {
    "vscode": {
     "languageId": "html"
    }
   },
   "source": [
    "Now that you have seen the example, you will start writing your custom functions in the html code block below: <br>\n",
    "<u> Make sure to follow each comment on where to write your code, don't modify any existing code. </u>\n",
    "<br><br>"
   ]
  },
  {
   "cell_type": "code",
   "execution_count": 1,
   "id": "a1af04c7",
   "metadata": {
    "vscode": {
     "languageId": "html"
    }
   },
   "outputs": [
    {
     "data": {
      "text/html": [
       "\n",
       "<!-- This is where the outputs of your functions will go: -->\n",
       "<h2>Function outputs:</h2>\n",
       "\n",
       "\n",
       "<!-- Modify each of the button onclick fields to call your functions: -->\n",
       "<!-- Make sure when the function is called you input your parameters. -->\n",
       "<!-- (Optional) You can also change the text each button displays if you want. -->\n",
       "<button type=\"button\" onclick=\"Add(10,9)\">Function Output 1: Addition</button>\n",
       "<div id=\"functionOutput1\"></div>\n",
       "<br>\n",
       "\n",
       "<button type=\"button\" onclick=\"Multiplication(2,3)\">Function Output 2: Multiplication</button>\n",
       "<div id=\"functionOutput2\"></div>\n",
       "<br>\n",
       "\n",
       "<button type=\"button\" onclick=\"Division(18,3)\">Function Output 3: Division</button>\n",
       "<div id=\"functionOutput3\"></div>\n",
       "<br>\n",
       "\n",
       "<button type=\"button\" onclick=\"Subtraction(10,5)\">Function Output 4: Subtraction</button>\n",
       "<div id=\"functionOutput4\"></div>\n",
       "<br>\n",
       "\n",
       "<button type=\"button\" onclick=\"Modulo(17,5)\">Function Output 5: Modulo</button>\n",
       "<div id=\"functionOutput5\"></div>\n",
       "<br>\n",
       "\n",
       "<button type=\"button\" onclick=\"Exponentiation(5,2)\">Function Output 6: Exponentiation</button>\n",
       "<div id=\"functionOutput6\"></div>\n",
       "<br>\n",
       "\n",
       "<button type=\"button\" onclick=\"Mix(6,5,3,2)\">Function Output 7: Mix of operators</button>\n",
       "<div id=\"functionOutput7\"></div>\n",
       "<br>\n",
       "\n",
       "\n",
       "<!-- You will write the code for your functions in this script area  -->\n",
       "<script>\n",
       "\n",
       "\t//Function 1.Comment by James Blazek: This is function 1 and is your example. I changed the numbers to output. It works by adding a and b. A is 10 and b is 9 equaling 19.\n",
       "\t//Example function (you can use this if you want):\n",
       "\tfunction Add(a,b)\n",
       "\t{\n",
       "\t\tlet result = a + b;\n",
       "\t\t\n",
       "\t\t// This line is important. It is what changes the output text section to the result of the function\n",
       "\t\tdocument.getElementById(\"functionOutput1\").innerText = result;\n",
       "\t}\n",
       "\n",
       "\t// Add all of your own functions here:\n",
       "\n",
       "//Function 2// This function multiplies a and b then multiples it by a again. When output a is equal to 2 and b is equal to 3. The equation because 2 times 3 times 2 which outputs 12.\n",
       "\tfunction Multiplication(a,b)\n",
       "\t{\n",
       "\t\tlet result = a * b * a;\n",
       "\t\tdocument.getElementById(\"functionOutput2\").innerText = result;\n",
       "\t}\n",
       "\n",
       "//Function 3// This function divides a by b then by b again. A is equal to 18 and b is equal to 3. When this code is run 18(a) is divided by 3(b) giving you 6. 6 is then divided by 3(b) which finally outputs 2.\n",
       "function Division(a,b){\n",
       "\tlet result = a / b / b;\n",
       "\tdocument.getElementById(\"functionOutput3\").innerText = result;\n",
       "}\n",
       "\n",
       "//Function 4// This function subtracts a from b then subtracts a again. In the dom A is equal to 10 and b is equal to 5. This makes the equation 10(a) - 5(b) -10(a). 10-5 equals 5. Then 5 - 10 equals -5 giving the final number.\n",
       "function Subtraction(a,b){\n",
       "\tlet result= a - b - a\n",
       "\tdocument.getElementById(\"functionOutput4\").innerText = result;\n",
       "}\n",
       "\n",
       "//Function 5// This function uses Modulo. a is equal to 17 and b is equal to 5. b goes into 17 3 times. Since b is 5, 5 * 3 is equal to 15. When doing the math 17(a)-15=2. This outputs the number 2 since 2 is the remaing number. This is a good example of how modulo works\n",
       "function Modulo(a,b){\n",
       "\tlet result= a % b;\n",
       "\tdocument.getElementById(\"functionOutput5\").innerText = result;\n",
       "}\n",
       "\t\n",
       "//Function 6 Exponentiation// In this equation a is equal to 5 and b is 2. Since when you do ** it is like a exponent. In this case the problem looks like 5(a)^2(b). 5^2 is equal to 25, giving the output for function.\n",
       "function Exponentiation(a,b) {\n",
       "\tlet result= a ** b;\n",
       "\tdocument.getElementById(\"functionOutput6\").innerText = result;\n",
       "}\n",
       "\n",
       "//Function 7- Mix of all concepts// In this equation a=6 b=5 c=3 and d=2; This makes the equation ((6(a) + 5(b) * 3(c) - 6(a) / 2(d))% 5(b))**2. Because of pemdas you start in the parenthesis. Do 5 * 3 and 6 divided by 2 because of PEMDAS. This makes the parenthisis look like 6(a)+ 15(b and c multiplied) - 3(a and d divided)\n",
       "//6 + 15 equals 21. 21 minus 3 equals 18 which is the outcome for the first parenthesis. The equation now look likes ((18)%5)**2. Next we do modulo. 5 goes in to 18 3 times. 18 -15 = 3 left over after modulo. The equation now is (3)**2. This means 3 to the power of 2 which is equal to 9 giving the final output of 9.\n",
       "function Mix(a,b,c,d){\n",
       "\tlet result = ((a + b * c - a / d)% b) **d;\n",
       "\tdocument.getElementById(\"functionOutput7\").innerText = result;\n",
       "}\n",
       "\n",
       "\t// You can make them do any mathematical expression, just make sure they change the text of one of the output sections\n",
       "</script>\n"
      ],
      "text/plain": [
       "<IPython.core.display.HTML object>"
      ]
     },
     "metadata": {},
     "output_type": "display_data"
    }
   ],
   "source": [
    "%%html\n",
    "\n",
    "<!-- This is where the outputs of your functions will go: -->\n",
    "<h2>Function outputs:</h2>\n",
    "\n",
    "\n",
    "<!-- Modify each of the button onclick fields to call your functions: -->\n",
    "<!-- Make sure when the function is called you input your parameters. -->\n",
    "<!-- (Optional) You can also change the text each button displays if you want. -->\n",
    "<button type=\"button\" onclick=\"Add(10,9)\">Function Output 1: Addition</button>\n",
    "<div id=\"functionOutput1\"></div>\n",
    "<br>\n",
    "\n",
    "<button type=\"button\" onclick=\"Multiplication(2,3)\">Function Output 2: Multiplication</button>\n",
    "<div id=\"functionOutput2\"></div>\n",
    "<br>\n",
    "\n",
    "<button type=\"button\" onclick=\"Division(18,3)\">Function Output 3: Division</button>\n",
    "<div id=\"functionOutput3\"></div>\n",
    "<br>\n",
    "\n",
    "<button type=\"button\" onclick=\"Subtraction(10,5)\">Function Output 4: Subtraction</button>\n",
    "<div id=\"functionOutput4\"></div>\n",
    "<br>\n",
    "\n",
    "<button type=\"button\" onclick=\"Modulo(17,5)\">Function Output 5: Modulo</button>\n",
    "<div id=\"functionOutput5\"></div>\n",
    "<br>\n",
    "\n",
    "<button type=\"button\" onclick=\"Exponentiation(5,2)\">Function Output 6: Exponentiation</button>\n",
    "<div id=\"functionOutput6\"></div>\n",
    "<br>\n",
    "\n",
    "<button type=\"button\" onclick=\"Mix(6,5,3,2)\">Function Output 7: Mix of operators</button>\n",
    "<div id=\"functionOutput7\"></div>\n",
    "<br>\n",
    "\n",
    "\n",
    "<!-- You will write the code for your functions in this script area  -->\n",
    "<script>\n",
    "\n",
    "\t//Function 1.Comment by James Blazek: This is function 1 and is your example. I changed the numbers to output. It works by adding a and b. A is 10 and b is 9 equaling 19.\n",
    "\t//Example function (you can use this if you want):\n",
    "\tfunction Add(a,b)\n",
    "\t{\n",
    "\t\tlet result = a + b;\n",
    "\t\t\n",
    "\t\t// This line is important. It is what changes the output text section to the result of the function\n",
    "\t\tdocument.getElementById(\"functionOutput1\").innerText = result;\n",
    "\t}\n",
    "\n",
    "\t// Add all of your own functions here:\n",
    "\n",
    "//Function 2// This function multiplies a and b then multiples it by a again. When output a is equal to 2 and b is equal to 3. The equation because 2 times 3 times 2 which outputs 12.\n",
    "\tfunction Multiplication(a,b)\n",
    "\t{\n",
    "\t\tlet result = a * b * a;\n",
    "\t\tdocument.getElementById(\"functionOutput2\").innerText = result;\n",
    "\t}\n",
    "\n",
    "//Function 3// This function divides a by b then by b again. A is equal to 18 and b is equal to 3. When this code is run 18(a) is divided by 3(b) giving you 6. 6 is then divided by 3(b) which finally outputs 2.\n",
    "function Division(a,b){\n",
    "\tlet result = a / b / b;\n",
    "\tdocument.getElementById(\"functionOutput3\").innerText = result;\n",
    "}\n",
    "\n",
    "//Function 4// This function subtracts a from b then subtracts a again. In the dom A is equal to 10 and b is equal to 5. This makes the equation 10(a) - 5(b) -10(a). 10-5 equals 5. Then 5 - 10 equals -5 giving the final number.\n",
    "function Subtraction(a,b){\n",
    "\tlet result= a - b - a\n",
    "\tdocument.getElementById(\"functionOutput4\").innerText = result;\n",
    "}\n",
    "\n",
    "//Function 5// This function uses Modulo. a is equal to 17 and b is equal to 5. b goes into 17 3 times. Since b is 5, 5 * 3 is equal to 15. When doing the math 17(a)-15=2. This outputs the number 2 since 2 is the remaing number. This is a good example of how modulo works\n",
    "function Modulo(a,b){\n",
    "\tlet result= a % b;\n",
    "\tdocument.getElementById(\"functionOutput5\").innerText = result;\n",
    "}\n",
    "\t\n",
    "//Function 6 Exponentiation// In this equation a is equal to 5 and b is 2. Since when you do ** it is like a exponent. In this case the problem looks like 5(a)^2(b). 5^2 is equal to 25, giving the output for function.\n",
    "function Exponentiation(a,b) {\n",
    "\tlet result= a ** b;\n",
    "\tdocument.getElementById(\"functionOutput6\").innerText = result;\n",
    "}\n",
    "\n",
    "//Function 7- Mix of all concepts// In this equation a=6 b=5 c=3 and d=2; This makes the equation ((6(a) + 5(b) * 3(c) - 6(a) / 2(d))% 5(b))**2. Because of pemdas you start in the parenthesis. Do 5 * 3 and 6 divided by 2 because of PEMDAS. This makes the parenthisis look like 6(a)+ 15(b and c multiplied) - 3(a and d divided)\n",
    "//6 + 15 equals 21. 21 minus 3 equals 18 which is the outcome for the first parenthesis. The equation now look likes ((18)%5)**2. Next we do modulo. 5 goes in to 18 3 times. 18 -15 = 3 left over after modulo. The equation now is (3)**2. This means 3 to the power of 2 which is equal to 9 giving the final output of 9.\n",
    "function Mix(a,b,c,d){\n",
    "\tlet result = ((a + b * c - a / d)% b) **d;\n",
    "\tdocument.getElementById(\"functionOutput7\").innerText = result;\n",
    "}\n",
    "\n",
    "\t// You can make them do any mathematical expression, just make sure they change the text of one of the output sections\n",
    "</script>\n"
   ]
  },
  {
   "cell_type": "markdown",
   "id": "6c6c906a",
   "metadata": {},
   "source": [
    "---\n",
    "\n",
    "<b>Grading</b>\n",
    "\n",
    "Popcorn Hack 1: Completion gives 0.2 points.<br/><br/>\n",
    "Popcorn Hack 2: Completion gives 0.3 points.<br/><br/>\n",
    "\n",
    "Final Task: Completion gives 0.5 points. Max of 0.02 extra points from extra work relevant to the subject or finishing assignment in a way that shows exceptional comprehension of the lesson.\n",
    "\n",
    "<br>\n",
    "<b><u>Make sure to submit your homework deployed link onto the global homework submission google sheet</u><b>"
   ]
  },
  {
   "cell_type": "markdown",
   "id": "9f94ed4c",
   "metadata": {
    "vscode": {
     "languageId": "html"
    }
   },
   "source": [
    "<a href=\"https://docs.google.com/forms/d/e/1FAIpQLSfwgZR0QYAg_uYuZ7XqqEm-xlU0-gZFE2dtgnKEe5kH7Yp0Vg/viewform?usp=dialog\"><b>Submission Google Form for Homework</b></a>"
   ]
  }
 ],
 "metadata": {
  "kernelspec": {
   "display_name": "Python 3",
   "language": "python",
   "name": "python3"
  },
  "language_info": {
   "codemirror_mode": {
    "name": "ipython",
    "version": 3
   },
   "file_extension": ".py",
   "mimetype": "text/x-python",
   "name": "python",
   "nbconvert_exporter": "python",
   "pygments_lexer": "ipython3",
   "version": "3.13.7"
  }
 },
 "nbformat": 4,
 "nbformat_minor": 5
}
