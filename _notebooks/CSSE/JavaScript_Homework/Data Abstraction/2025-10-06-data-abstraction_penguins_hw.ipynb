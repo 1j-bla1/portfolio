{
 "cells": [
  {
   "cell_type": "raw",
   "id": "244ca838",
   "metadata": {
    "vscode": {
     "languageId": "raw"
    }
   },
   "source": [
    "---\n",
    "layout: post\n",
    "title: Penguins - Data Abstraction Homework\n",
    "permalink: /javascript/data-abstraction/penguins-hw\n",
    "description: Penguins group data abstraction lesson homework\n",
    "category: [JavaScript]\n",
    "author: Jonah Larsson, Aarush Bandi, Sri Rohit Varma Datla\n",
    "---"
   ]
  },
  {
   "cell_type": "markdown",
   "id": "4e3ab516",
   "metadata": {},
   "source": [
    "# Penguins JS Lessons\n",
    "\n",
    "<a href=\"https://github.com/Open-Coding-Society/pages/blob/main/_notebooks/CSSE/JavaScriptLessons/Data_Abstractions/2025-10-06-data-abstraction_penguins_hw.ipynb\" download><b>Download Homework</b></a> <br/>\n",
    "<a href=\"https://docs.google.com/forms/d/e/1FAIpQLSfwgZR0QYAg_uYuZ7XqqEm-xlU0-gZFE2dtgnKEe5kH7Yp0Vg/viewform?usp=sharing&ouid=105179298243342263196\"><b>Submission Google Form for Homework</b></a>\n",
    "\n",
    "## **Data Abstraction Homework**\n",
    "In order to learn this subject of programming well, you have to practice:\n",
    "\n",
    "> Popcorn hack 1: Data Abstraction with functions\n",
    "\n",
    "> Popcorn hack 2: Data abstraction with classes\n",
    "\n",
    "> Final Task: Building a player system using classes and functions\n",
    "\n",
    "---"
   ]
  },
  {
   "cell_type": "markdown",
   "id": "ae486711",
   "metadata": {},
   "source": [
    "## <b>Popcorn Hack 1 (Progress Check)</b>\n",
    "\n",
    "Data abstraction with functions:\n",
    "\n",
    "**Part 1:** Edit the `Account()` function to print out the username and password to the console using console.log().\n",
    "\n",
    "**Part 2:** Edit the `ChangeUsername()` function to accept a `newUsername` parameter, then set the `username` variable to the `newUsername` parameter.\n",
    "\n",
    "**Part 3:** Edit the `ChangePassword()` function to accept a `newPassword` parameter, then set the `password` variable to the `newPassword` parameter.\n",
    "\n",
    "**Part 4:** Make the `Login()` function check if the parameters `_username` and `_password` are equal to the `username` and `password` variables, then print out if the login succeeded or failed using console.log()."
   ]
  },
  {
   "cell_type": "code",
   "execution_count": 19,
   "id": "ef977706",
   "metadata": {
    "vscode": {
     "languageId": "javascript"
    }
   },
   "outputs": [
    {
     "data": {
      "application/javascript": "//popcorn hack 1 code here:\n\n//James Comment: I changed the password name and username\nlet username = \"Very_Cool_Dude\";\nlet password = \"Impossible_to_Guess\";\n\n// part 1\nfunction Account(){\nconsole.log(\"Your username is \" + username + \" Your Password is \" + password);\n}\n\n// part 2\nfunction ChangeUsername(newUsername){\n\t//James Comment: This changes the old username to the new username and then sends it to console log\nusername= newUsername;\n console.log(\"Username has been changed to: \" + username);\n}\n\n// part 3\nfunction ChangePassword(newPassword){\n\t//James Comment: This changes the old password to a new password and then outputs it to the console log.\n password = newPassword;\n  console.log(\"Password has been changed to: \" + password);\n}\n\n// part 4\nfunction Login(_username, _password){\n\tif (_username === username && _password === password){\n\t\t//James Comment: This prints that the login worked\n\t\tconsole.log(\"Login successful!\");\n    return true;\n\t}\n\telse\n\t{\n\t\t\t//James Comment: If the condition is not met then it will display that the login did not work\n\t\t console.log(\"Login failed. Incorrect username or password.\");\n\t\treturn false;\n\t}\n}\n\n//James comment: Account displays the current password and username\nAccount();\n\n//James comment this changes the passwords\nChangeUsername(\"Super_Cool_Dude\");\nChangePassword(\"Horrible_Password_1234\");\n//James Comment: This is the new password and will say login succesful since they are the correct username and password\nLogin(\"Super_Cool_Dude\", \"Horrible_Password_1234\");\n//James Comment: This will not work since it is the old password. It will say login failed incorrect username or password\nLogin(\"Very_Cool_Dude\", \"Impossible_to_Guess\");\n\n//James Comment: This code now can change passwords, and usernames. It will then check your username and password and see if it is correct\n//If the password or username is wrong it will say it is incorrect. All of this now outputs to the console log.\n",
      "text/plain": [
       "<IPython.core.display.Javascript object>"
      ]
     },
     "metadata": {},
     "output_type": "display_data"
    }
   ],
   "source": [
    "%%javascript\n",
    "//popcorn hack 1 code here:\n",
    "\n",
    "//James Comment: I changed the password name and username\n",
    "let username = \"Very_Cool_Dude\";\n",
    "let password = \"Impossible_to_Guess\";\n",
    "\n",
    "// part 1\n",
    "function Account(){\n",
    "console.log(\"Your username is \" + username + \" Your Password is \" + password);\n",
    "}\n",
    "\n",
    "// part 2\n",
    "function ChangeUsername(newUsername){\n",
    "\t//James Comment: This changes the old username to the new username and then sends it to console log\n",
    "username= newUsername;\n",
    " console.log(\"Username has been changed to: \" + username);\n",
    "}\n",
    "\n",
    "// part 3\n",
    "function ChangePassword(newPassword){\n",
    "\t//James Comment: This changes the old password to a new password and then outputs it to the console log.\n",
    " password = newPassword;\n",
    "  console.log(\"Password has been changed to: \" + password);\n",
    "}\n",
    "\n",
    "// part 4\n",
    "function Login(_username, _password){\n",
    "\tif (_username === username && _password === password){\n",
    "\t\t//James Comment: This prints that the login worked\n",
    "\t\tconsole.log(\"Login successful!\");\n",
    "    return true;\n",
    "\t}\n",
    "\telse\n",
    "\t{\n",
    "\t\t\t//James Comment: If the condition is not met then it will display that the login did not work\n",
    "\t\t console.log(\"Login failed. Incorrect username or password.\");\n",
    "\t\treturn false;\n",
    "\t}\n",
    "}\n",
    "\n",
    "//James comment: Account displays the current password and username\n",
    "Account();\n",
    "\n",
    "//James comment this changes the passwords\n",
    "ChangeUsername(\"Super_Cool_Dude\");\n",
    "ChangePassword(\"Horrible_Password_1234\");\n",
    "//James Comment: This is the new password and will say login succesful since they are the correct username and password\n",
    "Login(\"Super_Cool_Dude\", \"Horrible_Password_1234\");\n",
    "//James Comment: This will not work since it is the old password. It will say login failed incorrect username or password\n",
    "Login(\"Very_Cool_Dude\", \"Impossible_to_Guess\");\n",
    "\n",
    "//James Comment: This code now can change passwords, and usernames. It will then check your username and password and see if it is correct\n",
    "//If the password or username is wrong it will say it is incorrect. All of this now outputs to the console log."
   ]
  },
  {
   "cell_type": "markdown",
   "id": "a45fb3f1",
   "metadata": {},
   "source": [
    "---\n",
    "\n",
    "## <b>Popcorn Hack 2 (Progress Check)</b>\n",
    "\n",
    "Use the examples provided in the lesson if you're stuck.\n",
    "\n",
    "**Part 1:** Make a class named `House`\n",
    "\n",
    "**Part 2:** Make a constructor for the `House` class with the parameters cost, age, and size\n",
    "\n",
    "**Part 3:** Make an instance of the House class with the name myHouse and fill the parameters with any numbers you want.\n",
    "\n",
    "Write your code down here:"
   ]
  },
  {
   "cell_type": "code",
   "execution_count": null,
   "id": "bb7a40cf",
   "metadata": {
    "vscode": {
     "languageId": "javascript"
    }
   },
   "outputs": [
    {
     "data": {
      "application/javascript": "\n// popcorn hack 2 code goes here:\n\n//Part 1. class called house\n//James Comment: I turned the house to House to follow part 1.\nclass House {\n\n    //Part 2. This has already been added to the code\nconstructor(cost, age, size) {\n    this.cost = cost;\n    this.age = age;\n    this.size = size;\n}\n}\n//James Comment: this shows the house data\nlet myHouse = new House(\"676,767\", \"67\", \"6700\");\n\nconsole.log(\"My house costs $\" + myHouse.cost + \", is \" + myHouse.age + \" years old, and is \" + myHouse.size + \" square feet.\");\n",
      "text/plain": [
       "<IPython.core.display.Javascript object>"
      ]
     },
     "metadata": {},
     "output_type": "display_data"
    }
   ],
   "source": [
    "%%javascript\n",
    "\n",
    "// popcorn hack 2 code goes here:\n",
    "\n",
    "//Part 1. class called house\n",
    "//James Comment: I turned the house to House to follow part 1.\n",
    "class House {\n",
    "\n",
    "    //Part 2. This has already been added to the code\n",
    "constructor(cost, age, size) {\n",
    "    this.cost = cost;\n",
    "    this.age = age;\n",
    "    this.size = size;\n",
    "}\n",
    "}\n",
    "//James Comment: this shows the house data\n",
    "let myHouse = new House(\"676,767\", \"67\", \"6700\");\n",
    "\n",
    "console.log(\"My house costs $\" + myHouse.cost + \", is \" + myHouse.age + \" years old, and is \" + myHouse.size + \" square feet.\");\n",
    "\n",
    "//James Comment: This code now outputs the cost the age and the size of the house to the console log. All the code works now"
   ]
  },
  {
   "cell_type": "markdown",
   "id": "de48f604",
   "metadata": {},
   "source": [
    "---\n",
    "\n",
    "## <b>Final task</b>\n",
    "\n",
    "**Part 1:** Create 2 variables in the constructor like this: this.variableName = something. \n",
    "These variables will be called: `this.positionX`, `this.velocityX`.\n",
    "\n",
    "**Part 2:** Create 2 methods called `MoveLeft()` and `MoveRight()`, <br>\n",
    "inside MoveLeft() set 'this.velocityX' to -200. <br>\n",
    "inside MoveRight() set 'this.velocityX' to 200.\n",
    "\n",
    "**Part 3:** Create a function called `UpdatePosition()`. Inside this function, add 'this.velocityX' to 'this.positionX'\n",
    "\n",
    "**Part 4:** Call each method (MoveLeft(), MoveRight(), UpdatePosition() ), on the player object."
   ]
  },
  {
   "cell_type": "code",
   "execution_count": null,
   "id": "81c4882b",
   "metadata": {
    "vscode": {
     "languageId": "javascript"
    }
   },
   "outputs": [],
   "source": [
    "// final task code goes here:\n",
    "\n",
    "class Player\n",
    "{\n",
    "\t// part 1\n",
    "\tconstructor()\n",
    "\t{\n",
    "\n",
    "\t}\n",
    "\n",
    "\t// part 2\n",
    "\n",
    "\n",
    "\t// part 3\n",
    "}\n",
    "\n",
    "// part 4\n",
    "let player = new Player;\n",
    "\n",
    "// call the functions on player here:\n"
   ]
  },
  {
   "cell_type": "markdown",
   "id": "7042352e",
   "metadata": {},
   "source": [
    "---\n",
    "\n",
    "<b>Grading</b>\n",
    "\n",
    "Popcorn Hack 1: Completion gives 0.2 points.<br/><br/>\n",
    "Popcorn Hack 2: Completion gives 0.3 points.<br/><br/>\n",
    "\n",
    "Final Task: Completion gives 0.5 points. Max of 0.02 extra points from extra work relevant to the subject or finishing assignment in a way that shows exceptional comprehension of the lesson.\n",
    "\n",
    "<br>\n",
    "<b><u>Make sure to submit your homework deployed link onto the global homework submission google sheet</u><b>\n",
    "\n",
    "<a href=\"https://docs.google.com/forms/d/e/1FAIpQLSfwgZR0QYAg_uYuZ7XqqEm-xlU0-gZFE2dtgnKEe5kH7Yp0Vg/viewform?usp=sharing&ouid=105179298243342263196\"><b>Submission Google Form for Homework</b></a>"
   ]
  }
 ],
 "metadata": {
  "kernelspec": {
   "display_name": "Python 3",
   "language": "python",
   "name": "python3"
  },
  "language_info": {
   "codemirror_mode": {
    "name": "ipython",
    "version": 3
   },
   "file_extension": ".py",
   "mimetype": "text/x-python",
   "name": "python",
   "nbconvert_exporter": "python",
   "pygments_lexer": "ipython3",
   "version": "3.13.7"
  }
 },
 "nbformat": 4,
 "nbformat_minor": 5
}
