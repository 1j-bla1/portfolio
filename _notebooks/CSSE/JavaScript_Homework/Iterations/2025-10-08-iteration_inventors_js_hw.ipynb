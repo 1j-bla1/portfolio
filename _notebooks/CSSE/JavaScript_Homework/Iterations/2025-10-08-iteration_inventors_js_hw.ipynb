{
 "cells": [
  {
   "cell_type": "raw",
   "id": "8bc5a172",
   "metadata": {
    "vscode": {
     "languageId": "raw"
    }
   },
   "source": [
    "---\n",
    "layout: post\n",
    "toc: True\n",
    "title: Inventors - Iterations Lesson HW\n",
    "description: These are the homework problems and popcorn hacks.\n",
    "permalink: /javascript/iteration/inventors-hw\n",
    "author: Pranav Sai, Aravind G\n",
    "categories: ['JavaScript']\n",
    "---\n"
   ]
  },
  {
   "cell_type": "markdown",
   "id": "b95aaf89",
   "metadata": {},
   "source": [
    "### Hack 1: The \"Counting Stars\" Hack (The while Loop) \n",
    "\n",
    "Instruction: To run this hack, call the countStars() function with a number to set the limit for the star count.\n"
   ]
  },
  {
   "cell_type": "code",
   "execution_count": 48,
   "id": "14dbac4f",
   "metadata": {
    "vscode": {
     "languageId": "javascript"
    }
   },
   "outputs": [
    {
     "data": {
      "application/javascript": "\n//Comment by James Blazek: Here I declared the variable limit which is 7. This is the max the code should count.\nlet limit=7;\n\nfunction countStars(limit) {\n  // 1. Initialize a counter variable. We'll start our count at 1.\n  let count = 1;\n\n  // 2. Start the `while` loop. The code inside this loop will run\n  // as long as the condition `count <= limit` is true.\n  while (count <= limit) {\n    // 3. This is the code that runs in each iteration.\n    console.log(`Star #${count} shining bright!`);\n\n\n    // 4. This is the increment step. It's crucial! If we don't\n    // increase the `count`, the loop will run forever (an infinite loop).\n\n    //Comment by James Blazek: I have made count increase by 1 each time the while loop runs\n    count=count + 1;\n  }\n\n\n  // 5. This message is displayed once the loop condition is no longer true\n  // and the loop has finished.\n\n  //Comment by James Blazek: I made a if statement so if the count he greater than or equal to the limit it displays the final console log message.\n  if (count >= limit) {\n    console.log(\"All the stars have been counted.\");\n  }\n}\ncountStars(limit);\n//All the code now outputs to the console log. If for whatever reason you can't see the console log outputs you can ask me and I can show you my code.\n",
      "text/plain": [
       "<IPython.core.display.Javascript object>"
      ]
     },
     "metadata": {},
     "output_type": "display_data"
    }
   ],
   "source": [
    "%%javascript\n",
    "\n",
    "//Comment by James Blazek: Here I declared the variable limit which is 7. This is the max the code should count.\n",
    "let limit=7;\n",
    "\n",
    "function countStars(limit) {\n",
    "  // 1. Initialize a counter variable. We'll start our count at 1.\n",
    "  let count = 1;\n",
    "\n",
    "  // 2. Start the `while` loop. The code inside this loop will run\n",
    "  // as long as the condition `count <= limit` is true.\n",
    "  while (count <= limit) {\n",
    "    // 3. This is the code that runs in each iteration.\n",
    "    console.log(`Star #${count} shining bright!`);\n",
    "\n",
    "\n",
    "    // 4. This is the increment step. It's crucial! If we don't\n",
    "    // increase the `count`, the loop will run forever (an infinite loop).\n",
    "\n",
    "    //Comment by James Blazek: I have made count increase by 1 each time the while loop runs\n",
    "    count=count + 1;\n",
    "  }\n",
    "\n",
    "\n",
    "  // 5. This message is displayed once the loop condition is no longer true\n",
    "  // and the loop has finished.\n",
    "\n",
    "  //Comment by James Blazek: I made a if statement so if the count he greater than or equal to the limit it displays the final console log message.\n",
    "  if (count >= limit) {\n",
    "    console.log(\"All the stars have been counted.\");\n",
    "  }\n",
    "}\n",
    "countStars(limit);\n",
    "//All the code now outputs to the console log. If for whatever reason you can't see the console log outputs you can ask me and I can show you my code.\n"
   ]
  },
  {
   "cell_type": "markdown",
   "id": "809bf254",
   "metadata": {},
   "source": [
    "### Hack 2: The \"Playlist Shuffle\" Hack (The For Loop) 🎵\n",
    "Instruction: To run this hack, define an array of strings called mySongs and pass that array into the playlistShuffle() function."
   ]
  },
  {
   "cell_type": "code",
   "execution_count": null,
   "id": "ec9b4c8a",
   "metadata": {
    "vscode": {
     "languageId": "javascript"
    }
   },
   "outputs": [
    {
     "data": {
      "application/javascript": "function playlistShuffle(playlist) {\n  // 1. Start the `for...of` loop. This loop is perfect for iterating\n  // over the items of an array.\n  // The variable `song` will hold the value of each item in the `playlist` array, one by one.\n\n  //James Blazek Comment:\n  for (const song of playlist) {\n    // 2. Action performed for each song in the array.\n    console.log(`Now playing: \"${song}\"`);\n  }\n\n\n  // 3. This message is displayed once the loop has processed every item in the array.\n  console.log(\"Playlist has ended\");\n}\n\n\n// Example of how to define the array:\nconst mySongs = [\"Living on a prayer\", \"Stairway to Heaven\", \"Thunderstruck\" ]; \n// Then, call the function: playlistShuffle(mySongs);\nplaylistShuffle(mySongs);\n",
      "text/plain": [
       "<IPython.core.display.Javascript object>"
      ]
     },
     "metadata": {},
     "output_type": "display_data"
    }
   ],
   "source": [
    "%%javascript\n",
    "function playlistShuffle(playlist) {\n",
    "  // 1. Start the `for...of` loop. This loop is perfect for iterating\n",
    "  // over the items of an array.\n",
    "  // The variable `song` will hold the value of each item in the `playlist` array, one by one.\n",
    "\n",
    "  //James Blazek Comment:\n",
    "  for (const song of playlist) {\n",
    "    // 2. Action performed for each song in the array.\n",
    "    console.log(`Now playing: \"${song}\"`);\n",
    "  }\n",
    "\n",
    "\n",
    "  // 3. This message is displayed once the loop has processed every item in the array.\n",
    "  console.log(\"Playlist has ended\");\n",
    "}\n",
    "\n",
    "\n",
    "// Example of how to define the array:\n",
    "const mySongs = [\"Living on a prayer\", \"Stairway to Heaven\", \"Thunderstruck\" ]; \n",
    "// Then, call the function: playlistShuffle(mySongs);\n",
    "playlistShuffle(mySongs);\n",
    "\n",
    "//Comment by James Blazek: All the songs in the playlist now output. If you have any problems for whatever reason ask me and I can show you my code.\n"
   ]
  },
  {
   "cell_type": "markdown",
   "id": "c45bc843",
   "metadata": {},
   "source": [
    "# Submission\n",
    "\n",
    "You will submit the link to your homework on a web page in the below form.  \n",
    "If you are unable to get your homework accessible from the website, you can upload this Jupyter notebook to the form.\n",
    "\n",
    "**IMPORTANT: If uploading, please name this Jupyter notebook in this format: [FirstName][LastName]_iterations_hw.ipynb**\n",
    "\n",
    "\n",
    "https://forms.gle/yaiYRXDq341kb2538\n"
   ]
  }
 ],
 "metadata": {
  "kernelspec": {
   "display_name": "Python 3",
   "language": "python",
   "name": "python3"
  },
  "language_info": {
   "codemirror_mode": {
    "name": "ipython",
    "version": 3
   },
   "file_extension": ".py",
   "mimetype": "text/x-python",
   "name": "python",
   "nbconvert_exporter": "python",
   "pygments_lexer": "ipython3",
   "version": "3.13.7"
  }
 },
 "nbformat": 4,
 "nbformat_minor": 5
}
